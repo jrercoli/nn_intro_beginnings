{
  "nbformat": 4,
  "nbformat_minor": 0,
  "metadata": {
    "colab": {
      "name": "nn_intro_beginnings.ipynb",
      "provenance": [],
      "collapsed_sections": []
    },
    "kernelspec": {
      "name": "python3",
      "display_name": "Python 3"
    },
    "language_info": {
      "name": "python"
    }
  },
  "cells": [
    {
      "cell_type": "markdown",
      "metadata": {
        "id": "JB1fj1pQtCvg"
      },
      "source": [
        "# Code for post Neural Network from the beginnings\n",
        "\n",
        "https://rorjor.wixsite.com/empoweredatascience"
      ]
    },
    {
      "cell_type": "code",
      "metadata": {
        "id": "k3t40f_xs5mK"
      },
      "source": [
        "# Data load\n",
        "from sklearn.datasets import load_boston\n",
        "houses = load_boston()\n",
        "\n",
        "data = houses.data\n",
        "features = houses.feature_names\n",
        "target = houses.target"
      ],
      "execution_count": null,
      "outputs": []
    },
    {
      "cell_type": "code",
      "metadata": {
        "colab": {
          "base_uri": "https://localhost:8080/"
        },
        "id": "foRk9zC9xwkf",
        "outputId": "b1ebdf70-4940-4c3c-dbae-5f4e2d968be0"
      },
      "source": [
        "# Data additional info: https://www.cs.toronto.edu/~delve/data/boston/bostonDetail.html\n",
        "houses.feature_names"
      ],
      "execution_count": null,
      "outputs": [
        {
          "output_type": "execute_result",
          "data": {
            "text/plain": [
              "array(['CRIM', 'ZN', 'INDUS', 'CHAS', 'NOX', 'RM', 'AGE', 'DIS', 'RAD',\n",
              "       'TAX', 'PTRATIO', 'B', 'LSTAT'], dtype='<U7')"
            ]
          },
          "metadata": {
            "tags": []
          },
          "execution_count": 70
        }
      ]
    },
    {
      "cell_type": "code",
      "metadata": {
        "id": "LaG6xLWCtuNB"
      },
      "source": [
        "# Data preparation\n",
        "from sklearn.preprocessing import StandardScaler\n",
        "s = StandardScaler()\n",
        "data = s.fit_transform(data)"
      ],
      "execution_count": null,
      "outputs": []
    },
    {
      "cell_type": "code",
      "metadata": {
        "id": "7VMutj9PuPE5"
      },
      "source": [
        "# Build train, test data\n",
        "from sklearn.model_selection import train_test_split\n",
        "\n",
        "X_train, X_test, y_train, y_test = train_test_split(data, target, test_size=0.3)\n",
        "# reshape y to 1 column\n",
        "y_train, y_test = y_train.reshape(-1, 1), y_test.reshape(-1, 1)"
      ],
      "execution_count": null,
      "outputs": []
    },
    {
      "cell_type": "code",
      "metadata": {
        "id": "HK5xZEabwdL1"
      },
      "source": [
        "# Apply regression model\n",
        "from sklearn.linear_model import LinearRegression\n",
        "\n",
        "lr = LinearRegression(fit_intercept=True)\n",
        "lr.fit(X_train, y_train)\n",
        "preds = lr.predict(X_test)"
      ],
      "execution_count": null,
      "outputs": []
    },
    {
      "cell_type": "code",
      "metadata": {
        "colab": {
          "base_uri": "https://localhost:8080/",
          "height": 295
        },
        "id": "P3d4ldxQwxOE",
        "outputId": "73a90b5e-a661-4099-c328-a60ea728de6a"
      },
      "source": [
        "# Plot regression results\n",
        "import matplotlib.pyplot as plt\n",
        "\n",
        "plt.xlabel(\"Predicted value\")\n",
        "plt.ylabel(\"Actual value\")\n",
        "plt.title(\"House prices - Linear Regression model\")\n",
        "plt.xlim([0, 51])\n",
        "plt.ylim([0, 51])\n",
        "plt.scatter(preds, y_test)\n",
        "plt.plot([0, 51], [0, 51]);"
      ],
      "execution_count": null,
      "outputs": [
        {
          "output_type": "display_data",
          "data": {
            "image/png": "[encoded data removed]",
            "text/plain": [
              "<Figure size 432x288 with 1 Axes>"
            ]
          },
          "metadata": {
            "tags": [],
            "needs_background": "light"
          }
        }
      ]
    },
    {
      "cell_type": "code",
      "metadata": {
        "colab": {
          "base_uri": "https://localhost:8080/"
        },
        "id": "7hzzX1IU2hmp",
        "outputId": "2cc51570-ddc4-432b-a1c7-ecf6c20de447"
      },
      "source": [
        "# Calculate metric MSE and MAE\n",
        "from sklearn.metrics import mean_squared_error, mean_absolute_error\n",
        "\n",
        "print('MSE: ', mean_squared_error(y_test, preds, squared=True)) # MSE \n",
        "print('RMSE: ', mean_squared_error(y_test, preds, squared=False)) # if squared=False => RMSE\n",
        "print('MAE: ', mean_absolute_error(y_test, preds))"
      ],
      "execution_count": null,
      "outputs": [
        {
          "output_type": "stream",
          "text": [
            "MSE:  25.477930504169446\n",
            "RMSE:  5.047566790461464\n",
            "MAE:  3.567055818209399\n"
          ],
          "name": "stdout"
        }
      ]
    },
    {
      "cell_type": "code",
      "metadata": {
        "colab": {
          "base_uri": "https://localhost:8080/",
          "height": 295
        },
        "id": "9UjD48FTzB3p",
        "outputId": "41ab232e-bad7-4483-8791-8fe8925f8500"
      },
      "source": [
        "# Plot Non linear relation - most important feature = LSTAT (last-12)\n",
        "plt.scatter(X_test[:, 12], y_test)\n",
        "plt.xlabel(\"Most important feature\")\n",
        "plt.ylabel(\"Target\")\n",
        "plt.title(\"Relationship most imp. feature VS target\");"
      ],
      "execution_count": null,
      "outputs": [
        {
          "output_type": "display_data",
          "data": {
            "image/png": "[encoded data removed]",
            "text/plain": [
              "<Figure size 432x288 with 1 Axes>"
            ]
          },
          "metadata": {
            "tags": [],
            "needs_background": "light"
          }
        }
      ]
    },
    {
      "cell_type": "markdown",
      "metadata": {
        "id": "dLc6fupT3z1P"
      },
      "source": [
        "**Our first Neural network**"
      ]
    },
    {
      "cell_type": "markdown",
      "metadata": {
        "id": "XIP586sxN0w2"
      },
      "source": [
        "**PyTorch** is the ability to define models and layers as easy-to-use\n",
        "objects that handle sending gradients backward and storing parameters automatically, simply by having them inherit from the *torch.nn.Module* class.\n",
        "\n",
        "we need the ability to change our model’s behavior depending on whether we are running it in training mode or in inference mode (Evaluation mode). \n",
        "In PyTorch, we can switch a model or layer from training mode (its default behavior) to inference mode by running *m.eval* on the model\n",
        "\n",
        "---\n",
        "\n"
      ]
    },
    {
      "cell_type": "code",
      "metadata": {
        "id": "GXb9mPTf3yz5"
      },
      "source": [
        "from torch import nn, Tensor, sigmoid\n",
        "import torch.optim.optimizer as Optimizer\n",
        "import torch.optim as optim\n",
        "import torch.nn.modules.loss as _Loss\n",
        "import numpy as np\n",
        "from typing import Tuple\n",
        "\n",
        "def inference_mode(m: nn.Module):\n",
        "  m.eval()\n",
        "\n",
        "# NN Model base class\n",
        "class PyTorchModel(nn.Module):\n",
        "  def __init__(self) -> None:\n",
        "    super().__init__()\n",
        "    \n",
        "  def forward(self, x: Tensor, inference: bool = False) -> Tensor:\n",
        "    if inference:\n",
        "      self.apply(inference_mode)\n",
        "    raise NotImplementedError()\n",
        "\n",
        "# NN Model to predict House prices - subclass of base\n",
        "class HousePricesModel(PyTorchModel):\n",
        "  # set default 13 features for the output of hidden layer\n",
        "  # and the input of output layer\n",
        "  def __init__(self, hidden_size: int = 13):\n",
        "    super().__init__()\n",
        "    self.fc1 = nn.Linear(13, hidden_size)\n",
        "    self.fc2 = nn.Linear(hidden_size, 1)\n",
        "\n",
        "  def forward(self, x: Tensor) -> Tensor:\n",
        "    assert_dim(x, 2)\n",
        "    assert x.shape[1] == 13\n",
        "\n",
        "    x = self.fc1(x)\n",
        "    x = sigmoid(x)\n",
        "    return self.fc2(x)"
      ],
      "execution_count": null,
      "outputs": []
    },
    {
      "cell_type": "code",
      "metadata": {
        "id": "99oB4UjU9Yt6"
      },
      "source": [
        "def permute_data(X: np.ndarray, y: np.ndarray):\n",
        "    perm = np.random.permutation(X.shape[0])\n",
        "    return X[perm], y[perm]"
      ],
      "execution_count": null,
      "outputs": []
    },
    {
      "cell_type": "code",
      "metadata": {
        "id": "WO8us3oV96tH"
      },
      "source": [
        "def assert_dim(t: np.ndarray, dim: int):\n",
        "    assert t.ndim == dim, \\\n",
        "        '''\n",
        "        Tensor expected dimension {0}, but has dimension {1}\n",
        "        '''.format(dim, len(t.shape))    \n",
        "    return None"
      ],
      "execution_count": null,
      "outputs": []
    },
    {
      "cell_type": "code",
      "metadata": {
        "colab": {
          "base_uri": "https://localhost:8080/"
        },
        "id": "Nuhh9E4bOtVL",
        "outputId": "e7ac8203-c6a2-4d2d-a15a-efa58e3bfa78"
      },
      "source": [
        "pt_houses_model = HousePricesModel()\n",
        "pt_houses_model"
      ],
      "execution_count": null,
      "outputs": [
        {
          "output_type": "execute_result",
          "data": {
            "text/plain": [
              "HousePricesModel(\n",
              "  (fc1): Linear(in_features=13, out_features=13, bias=True)\n",
              "  (fc2): Linear(in_features=13, out_features=1, bias=True)\n",
              ")"
            ]
          },
          "metadata": {
            "tags": []
          },
          "execution_count": 53
        }
      ]
    },
    {
      "cell_type": "code",
      "metadata": {
        "id": "jAISRBJKuIGf"
      },
      "source": [
        "# Build a trainer class\n",
        "class PyTorchTrainer(object):\n",
        "  def __init__(self, model: PyTorchModel, optim: Optimizer, criterion: _Loss):\n",
        "    self.model = model\n",
        "    self.optim = optim\n",
        "    self.loss = criterion\n",
        "    self._check_optim_net_aligned()\n",
        "\n",
        "  # check that the parameters that the Optimizer refers\n",
        "  # to are in fact the same as the model’s parameters\n",
        "  def _check_optim_net_aligned(self):\n",
        "    assert self.optim.param_groups[0]['params']\\\n",
        "    == list(self.model.parameters())\n",
        "\n",
        "  def _generate_batches(self,\n",
        "                        X: Tensor,\n",
        "                        y: Tensor,\n",
        "                        size: int = 32) -> Tuple[Tensor]:\n",
        "    N = X.shape[0]\n",
        "    for ii in range(0, N, size):\n",
        "      X_batch, y_batch = X[ii:ii+size], y[ii:ii+size]\n",
        "      yield X_batch, y_batch\n",
        "  \n",
        "  def fit(self, X_train: Tensor, y_train: Tensor,\n",
        "        X_test: Tensor, y_test: Tensor,\n",
        "        epochs: int=50,\n",
        "        # eval_every: int=10,\n",
        "        batch_size: int=32):\n",
        "  \n",
        "    for e in range(epochs):\n",
        "\n",
        "      # On each epoch we shuffle the array elements randomly\n",
        "      X_train, y_train = permute_data(X_train, y_train)\n",
        "      # Generate the batches of data\n",
        "      batch_generator = self._generate_batches(X_train, y_train, batch_size)\n",
        "\n",
        "      # On each batch of data, backpropagate and perform the gradient descent\n",
        "      for ii, (X_batch, y_batch) in enumerate(batch_generator):\n",
        "                \n",
        "        # Because Optimizer retains the parameter gradients (param_grads) \n",
        "        # after each iteration, set the previously calculated gradients to 0\n",
        "        self.optim.zero_grad()\n",
        "        # Feed the outputs and targets into a loss function to compute loss\n",
        "        output = self.model(X_batch)\n",
        "        # Compute the loss gradient with respect to all of the parameters\n",
        "        loss = self.loss(output, y_batch)\n",
        "        # After computing the loss value, started the backpropagation\n",
        "        loss.backward()\n",
        "        # Use the Optimizer to update the parameters according to some rule\n",
        "        self.optim.step()\n",
        "\n",
        "      output = self.model(X_test)\n",
        "      # Calculate and print the loss of the epoch\n",
        "      loss = self.loss(output, y_test)\n",
        "      print(e, loss)"
      ],
      "execution_count": null,
      "outputs": []
    },
    {
      "cell_type": "code",
      "metadata": {
        "id": "eI40bLacQ3ZY"
      },
      "source": [
        "# Pass our data to Tensors\n",
        "X_train, X_test, y_train, y_test = Tensor(X_train), Tensor(X_test), Tensor(y_train), Tensor(y_test)"
      ],
      "execution_count": null,
      "outputs": []
    },
    {
      "cell_type": "code",
      "metadata": {
        "colab": {
          "base_uri": "https://localhost:8080/"
        },
        "id": "Bs8-igEn5jvA",
        "outputId": "99186165-df88-453b-b3b7-b1ecfe8b9ade"
      },
      "source": [
        "# build an object model\n",
        "nn_obj = HousePricesModel()\n",
        "# build SGD optimizer\n",
        "optimizer = optim.SGD(nn_obj.parameters(), lr=0.001)\n",
        "# Loss function MSE\n",
        "criterion = nn.MSELoss()\n",
        "\n",
        "trainer = PyTorchTrainer(nn_obj, optimizer, criterion)\n",
        "trainer.fit(X_train, y_train, X_test, y_test, epochs=200)"
      ],
      "execution_count": null,
      "outputs": [
        {
          "output_type": "stream",
          "text": [
            "0 tensor(499.3207, grad_fn=<MseLossBackward>)\n",
            "1 tensor(417.2307, grad_fn=<MseLossBackward>)\n",
            "2 tensor(349.0024, grad_fn=<MseLossBackward>)\n",
            "3 tensor(286.2938, grad_fn=<MseLossBackward>)\n",
            "4 tensor(232.7984, grad_fn=<MseLossBackward>)\n",
            "5 tensor(188.5711, grad_fn=<MseLossBackward>)\n",
            "6 tensor(151.9245, grad_fn=<MseLossBackward>)\n",
            "7 tensor(123.3584, grad_fn=<MseLossBackward>)\n",
            "8 tensor(102.4077, grad_fn=<MseLossBackward>)\n",
            "9 tensor(85.7833, grad_fn=<MseLossBackward>)\n",
            "10 tensor(74.7168, grad_fn=<MseLossBackward>)\n",
            "11 tensor(66.4075, grad_fn=<MseLossBackward>)\n",
            "12 tensor(57.0831, grad_fn=<MseLossBackward>)\n",
            "13 tensor(52.3367, grad_fn=<MseLossBackward>)\n",
            "14 tensor(48.9601, grad_fn=<MseLossBackward>)\n",
            "15 tensor(46.4343, grad_fn=<MseLossBackward>)\n",
            "16 tensor(44.5360, grad_fn=<MseLossBackward>)\n",
            "17 tensor(42.9017, grad_fn=<MseLossBackward>)\n",
            "18 tensor(41.6996, grad_fn=<MseLossBackward>)\n",
            "19 tensor(40.7294, grad_fn=<MseLossBackward>)\n",
            "20 tensor(39.7561, grad_fn=<MseLossBackward>)\n",
            "21 tensor(38.7531, grad_fn=<MseLossBackward>)\n",
            "22 tensor(37.7458, grad_fn=<MseLossBackward>)\n",
            "23 tensor(37.1635, grad_fn=<MseLossBackward>)\n",
            "24 tensor(36.7982, grad_fn=<MseLossBackward>)\n",
            "25 tensor(36.1516, grad_fn=<MseLossBackward>)\n",
            "26 tensor(35.6864, grad_fn=<MseLossBackward>)\n",
            "27 tensor(35.2384, grad_fn=<MseLossBackward>)\n",
            "28 tensor(34.8370, grad_fn=<MseLossBackward>)\n",
            "29 tensor(34.6133, grad_fn=<MseLossBackward>)\n",
            "30 tensor(34.2621, grad_fn=<MseLossBackward>)\n",
            "31 tensor(33.8367, grad_fn=<MseLossBackward>)\n",
            "32 tensor(33.4790, grad_fn=<MseLossBackward>)\n",
            "33 tensor(33.2867, grad_fn=<MseLossBackward>)\n",
            "34 tensor(32.8882, grad_fn=<MseLossBackward>)\n",
            "35 tensor(32.5502, grad_fn=<MseLossBackward>)\n",
            "36 tensor(32.2474, grad_fn=<MseLossBackward>)\n",
            "37 tensor(31.9864, grad_fn=<MseLossBackward>)\n",
            "38 tensor(31.7015, grad_fn=<MseLossBackward>)\n",
            "39 tensor(31.6482, grad_fn=<MseLossBackward>)\n",
            "40 tensor(31.4026, grad_fn=<MseLossBackward>)\n",
            "41 tensor(31.1692, grad_fn=<MseLossBackward>)\n",
            "42 tensor(31.1000, grad_fn=<MseLossBackward>)\n",
            "43 tensor(31.0424, grad_fn=<MseLossBackward>)\n",
            "44 tensor(30.7792, grad_fn=<MseLossBackward>)\n",
            "45 tensor(30.5148, grad_fn=<MseLossBackward>)\n",
            "46 tensor(30.3047, grad_fn=<MseLossBackward>)\n",
            "47 tensor(30.1449, grad_fn=<MseLossBackward>)\n",
            "48 tensor(29.9546, grad_fn=<MseLossBackward>)\n",
            "49 tensor(29.8134, grad_fn=<MseLossBackward>)\n",
            "50 tensor(29.6245, grad_fn=<MseLossBackward>)\n",
            "51 tensor(29.4327, grad_fn=<MseLossBackward>)\n",
            "52 tensor(29.4103, grad_fn=<MseLossBackward>)\n",
            "53 tensor(29.4202, grad_fn=<MseLossBackward>)\n",
            "54 tensor(29.2349, grad_fn=<MseLossBackward>)\n",
            "55 tensor(29.0983, grad_fn=<MseLossBackward>)\n",
            "56 tensor(28.9789, grad_fn=<MseLossBackward>)\n",
            "57 tensor(28.7043, grad_fn=<MseLossBackward>)\n",
            "58 tensor(28.5501, grad_fn=<MseLossBackward>)\n",
            "59 tensor(28.4744, grad_fn=<MseLossBackward>)\n",
            "60 tensor(28.4712, grad_fn=<MseLossBackward>)\n",
            "61 tensor(28.3744, grad_fn=<MseLossBackward>)\n",
            "62 tensor(28.3165, grad_fn=<MseLossBackward>)\n",
            "63 tensor(28.1759, grad_fn=<MseLossBackward>)\n",
            "64 tensor(28.0891, grad_fn=<MseLossBackward>)\n",
            "65 tensor(27.9010, grad_fn=<MseLossBackward>)\n",
            "66 tensor(27.9740, grad_fn=<MseLossBackward>)\n",
            "67 tensor(27.6423, grad_fn=<MseLossBackward>)\n",
            "68 tensor(27.5119, grad_fn=<MseLossBackward>)\n",
            "69 tensor(27.5569, grad_fn=<MseLossBackward>)\n",
            "70 tensor(27.4340, grad_fn=<MseLossBackward>)\n",
            "71 tensor(27.2764, grad_fn=<MseLossBackward>)\n",
            "72 tensor(27.1827, grad_fn=<MseLossBackward>)\n",
            "73 tensor(27.0584, grad_fn=<MseLossBackward>)\n",
            "74 tensor(26.9868, grad_fn=<MseLossBackward>)\n",
            "75 tensor(26.8435, grad_fn=<MseLossBackward>)\n",
            "76 tensor(26.7656, grad_fn=<MseLossBackward>)\n",
            "77 tensor(27.2753, grad_fn=<MseLossBackward>)\n",
            "78 tensor(26.9114, grad_fn=<MseLossBackward>)\n",
            "79 tensor(26.7449, grad_fn=<MseLossBackward>)\n",
            "80 tensor(26.7420, grad_fn=<MseLossBackward>)\n",
            "81 tensor(26.6628, grad_fn=<MseLossBackward>)\n",
            "82 tensor(26.5456, grad_fn=<MseLossBackward>)\n",
            "83 tensor(26.4110, grad_fn=<MseLossBackward>)\n",
            "84 tensor(26.2557, grad_fn=<MseLossBackward>)\n",
            "85 tensor(26.2031, grad_fn=<MseLossBackward>)\n",
            "86 tensor(26.0135, grad_fn=<MseLossBackward>)\n",
            "87 tensor(25.9897, grad_fn=<MseLossBackward>)\n",
            "88 tensor(25.8988, grad_fn=<MseLossBackward>)\n",
            "89 tensor(25.7490, grad_fn=<MseLossBackward>)\n",
            "90 tensor(25.7129, grad_fn=<MseLossBackward>)\n",
            "91 tensor(25.6307, grad_fn=<MseLossBackward>)\n",
            "92 tensor(25.5634, grad_fn=<MseLossBackward>)\n",
            "93 tensor(25.4960, grad_fn=<MseLossBackward>)\n",
            "94 tensor(25.3853, grad_fn=<MseLossBackward>)\n",
            "95 tensor(25.4862, grad_fn=<MseLossBackward>)\n",
            "96 tensor(25.4729, grad_fn=<MseLossBackward>)\n",
            "97 tensor(25.5594, grad_fn=<MseLossBackward>)\n",
            "98 tensor(25.5910, grad_fn=<MseLossBackward>)\n",
            "99 tensor(25.4314, grad_fn=<MseLossBackward>)\n",
            "100 tensor(25.2446, grad_fn=<MseLossBackward>)\n",
            "101 tensor(25.1702, grad_fn=<MseLossBackward>)\n",
            "102 tensor(25.0240, grad_fn=<MseLossBackward>)\n",
            "103 tensor(24.9734, grad_fn=<MseLossBackward>)\n",
            "104 tensor(24.9317, grad_fn=<MseLossBackward>)\n",
            "105 tensor(24.8386, grad_fn=<MseLossBackward>)\n",
            "106 tensor(24.7791, grad_fn=<MseLossBackward>)\n",
            "107 tensor(24.8491, grad_fn=<MseLossBackward>)\n",
            "108 tensor(24.7341, grad_fn=<MseLossBackward>)\n",
            "109 tensor(24.7253, grad_fn=<MseLossBackward>)\n",
            "110 tensor(24.6340, grad_fn=<MseLossBackward>)\n",
            "111 tensor(24.4222, grad_fn=<MseLossBackward>)\n",
            "112 tensor(24.3977, grad_fn=<MseLossBackward>)\n",
            "113 tensor(24.4124, grad_fn=<MseLossBackward>)\n",
            "114 tensor(24.4465, grad_fn=<MseLossBackward>)\n",
            "115 tensor(24.7085, grad_fn=<MseLossBackward>)\n",
            "116 tensor(24.4513, grad_fn=<MseLossBackward>)\n",
            "117 tensor(24.3734, grad_fn=<MseLossBackward>)\n",
            "118 tensor(24.3091, grad_fn=<MseLossBackward>)\n",
            "119 tensor(24.3481, grad_fn=<MseLossBackward>)\n",
            "120 tensor(24.2418, grad_fn=<MseLossBackward>)\n",
            "121 tensor(24.1583, grad_fn=<MseLossBackward>)\n",
            "122 tensor(24.2723, grad_fn=<MseLossBackward>)\n",
            "123 tensor(24.1585, grad_fn=<MseLossBackward>)\n",
            "124 tensor(24.0011, grad_fn=<MseLossBackward>)\n",
            "125 tensor(23.8902, grad_fn=<MseLossBackward>)\n",
            "126 tensor(23.8347, grad_fn=<MseLossBackward>)\n",
            "127 tensor(23.8599, grad_fn=<MseLossBackward>)\n",
            "128 tensor(23.5996, grad_fn=<MseLossBackward>)\n",
            "129 tensor(23.6249, grad_fn=<MseLossBackward>)\n",
            "130 tensor(23.6870, grad_fn=<MseLossBackward>)\n",
            "131 tensor(23.6970, grad_fn=<MseLossBackward>)\n",
            "132 tensor(23.5956, grad_fn=<MseLossBackward>)\n",
            "133 tensor(23.4709, grad_fn=<MseLossBackward>)\n",
            "134 tensor(23.6234, grad_fn=<MseLossBackward>)\n",
            "135 tensor(23.4707, grad_fn=<MseLossBackward>)\n",
            "136 tensor(23.3838, grad_fn=<MseLossBackward>)\n",
            "137 tensor(23.4454, grad_fn=<MseLossBackward>)\n",
            "138 tensor(23.3197, grad_fn=<MseLossBackward>)\n",
            "139 tensor(23.3924, grad_fn=<MseLossBackward>)\n",
            "140 tensor(23.1814, grad_fn=<MseLossBackward>)\n",
            "141 tensor(23.2864, grad_fn=<MseLossBackward>)\n",
            "142 tensor(23.0604, grad_fn=<MseLossBackward>)\n",
            "143 tensor(22.9271, grad_fn=<MseLossBackward>)\n",
            "144 tensor(22.8447, grad_fn=<MseLossBackward>)\n",
            "145 tensor(22.8163, grad_fn=<MseLossBackward>)\n",
            "146 tensor(22.8198, grad_fn=<MseLossBackward>)\n",
            "147 tensor(22.7239, grad_fn=<MseLossBackward>)\n",
            "148 tensor(22.7401, grad_fn=<MseLossBackward>)\n",
            "149 tensor(22.7139, grad_fn=<MseLossBackward>)\n",
            "150 tensor(22.7122, grad_fn=<MseLossBackward>)\n",
            "151 tensor(22.9206, grad_fn=<MseLossBackward>)\n",
            "152 tensor(22.8701, grad_fn=<MseLossBackward>)\n",
            "153 tensor(22.9635, grad_fn=<MseLossBackward>)\n",
            "154 tensor(22.9359, grad_fn=<MseLossBackward>)\n",
            "155 tensor(23.0015, grad_fn=<MseLossBackward>)\n",
            "156 tensor(22.7986, grad_fn=<MseLossBackward>)\n",
            "157 tensor(22.8623, grad_fn=<MseLossBackward>)\n",
            "158 tensor(22.7265, grad_fn=<MseLossBackward>)\n",
            "159 tensor(22.6375, grad_fn=<MseLossBackward>)\n",
            "160 tensor(22.5540, grad_fn=<MseLossBackward>)\n",
            "161 tensor(22.5731, grad_fn=<MseLossBackward>)\n",
            "162 tensor(22.4969, grad_fn=<MseLossBackward>)\n",
            "163 tensor(22.4952, grad_fn=<MseLossBackward>)\n",
            "164 tensor(22.5856, grad_fn=<MseLossBackward>)\n",
            "165 tensor(22.4389, grad_fn=<MseLossBackward>)\n",
            "166 tensor(22.4896, grad_fn=<MseLossBackward>)\n",
            "167 tensor(22.4438, grad_fn=<MseLossBackward>)\n",
            "168 tensor(22.2328, grad_fn=<MseLossBackward>)\n",
            "169 tensor(22.1158, grad_fn=<MseLossBackward>)\n",
            "170 tensor(22.1198, grad_fn=<MseLossBackward>)\n",
            "171 tensor(22.3231, grad_fn=<MseLossBackward>)\n",
            "172 tensor(22.2634, grad_fn=<MseLossBackward>)\n",
            "173 tensor(22.1536, grad_fn=<MseLossBackward>)\n",
            "174 tensor(22.1550, grad_fn=<MseLossBackward>)\n",
            "175 tensor(22.0901, grad_fn=<MseLossBackward>)\n",
            "176 tensor(22.0068, grad_fn=<MseLossBackward>)\n",
            "177 tensor(21.8870, grad_fn=<MseLossBackward>)\n",
            "178 tensor(21.9018, grad_fn=<MseLossBackward>)\n",
            "179 tensor(21.8163, grad_fn=<MseLossBackward>)\n",
            "180 tensor(21.9259, grad_fn=<MseLossBackward>)\n",
            "181 tensor(21.8471, grad_fn=<MseLossBackward>)\n",
            "182 tensor(21.8799, grad_fn=<MseLossBackward>)\n",
            "183 tensor(21.9356, grad_fn=<MseLossBackward>)\n",
            "184 tensor(21.6944, grad_fn=<MseLossBackward>)\n",
            "185 tensor(21.6402, grad_fn=<MseLossBackward>)\n",
            "186 tensor(21.6532, grad_fn=<MseLossBackward>)\n",
            "187 tensor(21.6275, grad_fn=<MseLossBackward>)\n",
            "188 tensor(21.6905, grad_fn=<MseLossBackward>)\n",
            "189 tensor(21.6532, grad_fn=<MseLossBackward>)\n",
            "190 tensor(21.6342, grad_fn=<MseLossBackward>)\n",
            "191 tensor(21.6480, grad_fn=<MseLossBackward>)\n",
            "192 tensor(21.5581, grad_fn=<MseLossBackward>)\n",
            "193 tensor(21.6157, grad_fn=<MseLossBackward>)\n",
            "194 tensor(21.5601, grad_fn=<MseLossBackward>)\n",
            "195 tensor(21.5165, grad_fn=<MseLossBackward>)\n",
            "196 tensor(21.3750, grad_fn=<MseLossBackward>)\n",
            "197 tensor(21.3815, grad_fn=<MseLossBackward>)\n",
            "198 tensor(21.4547, grad_fn=<MseLossBackward>)\n",
            "199 tensor(21.3082, grad_fn=<MseLossBackward>)\n"
          ],
          "name": "stdout"
        }
      ]
    }
  ]
}